{
 "cells": [
  {
   "cell_type": "code",
   "execution_count": 1,
   "metadata": {},
   "outputs": [
    {
     "name": "stdout",
     "output_type": "stream",
     "text": [
      "[[4, 7, 5], [5, 1, 6], [3, 8, 4], [9, 2, 7]]\n"
     ]
    }
   ],
   "source": [
    "# Python program to get transpose \n",
    "# elements of two dimension list \n",
    "def transpose(l1, l2): \n",
    "\n",
    "\t# iterate over list l1 to the length of an item \n",
    "\tfor i in range(len(l1[0])): \n",
    "\t\t# print(i) \n",
    "\t\trow =[] \n",
    "\t\tfor item in l1: \n",
    "\t\t\t# appending to new list with values and index positions \n",
    "\t\t\t# i contains index position and item contains values \n",
    "\t\t\trow.append(item[i]) \n",
    "\t\tl2.append(row) \n",
    "\treturn l2 \n",
    "\n",
    "# Driver code\n",
    "l1 = [[4, 5, 3, 9], [7, 1, 8, 2], [5, 6, 4, 7]] \n",
    "l2 = [] \n",
    "print(transpose(l1, l2)) \n"
   ]
  },
  {
   "cell_type": "code",
   "execution_count": null,
   "metadata": {},
   "outputs": [],
   "source": []
  }
 ],
 "metadata": {
  "kernelspec": {
   "display_name": "Python 3",
   "language": "python",
   "name": "python3"
  },
  "language_info": {
   "codemirror_mode": {
    "name": "ipython",
    "version": 3
   },
   "file_extension": ".py",
   "mimetype": "text/x-python",
   "name": "python",
   "nbconvert_exporter": "python",
   "pygments_lexer": "ipython3",
   "version": "3.7.3"
  }
 },
 "nbformat": 4,
 "nbformat_minor": 2
}
